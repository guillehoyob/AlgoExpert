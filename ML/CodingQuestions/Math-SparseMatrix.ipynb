def sparse_matrix_multiplication(matrix_a, matrix_b):
    # 1 - Cant be multiplied: Nº Cols of A dosent Match Nº Rows of B
    if len(matrix_a[0]) != len(matrix_b):
        return [[]]

    else:
        # Sparse matrix - Dictionary - Representation
        def create_sparse_rep(mat):
            sparse_rep = {}
            for i in range(len(mat)):
                for j in range(len(mat[0])):
                    if mat[i][j] != 0:
                        sparse_rep[(i,j)] = mat[i][j]
        
            return sparse_rep
       
        # Contruct Sparse Matrix Result Structure
        matrix_c = [[0 for j in range(len(matrix_b[0]))] for i in range(len(matrix_a))]

        # Iterate through the dictionaries and multiplicate the corresponding elements += (i,z) * (z,j)
        sparse_a = create_sparse_rep(matrix_a)
        sparse_b = create_sparse_rep(matrix_b)
    
        for (i, za) in sparse_a:
            for (zb, j) in sparse_b:
                if za == zb:
                    matrix_c[i][j] += sparse_a[(i,za)] * sparse_b[(zb,j)]
    
        return matrix_c
